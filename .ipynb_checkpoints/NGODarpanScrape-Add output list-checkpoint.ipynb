{
 "cells": [
  {
   "cell_type": "code",
   "execution_count": 65,
   "metadata": {},
   "outputs": [],
   "source": [
    "from bs4 import BeautifulSoup\n",
    "import requests\n",
    "s=requests.Session()\n",
    "s.headers['User-agent']='Mozilla/5.0 (Windows NT 6.1)AppleWebKit/537.36 (KHTML, like Gecko) Chrome/33.0.1750.154 Safari/537.36'\n",
    "import re\n",
    "import json\n",
    "import time\n",
    "from NGO_darpan_support_modules_python3 import sqlite_interface\n",
    "from datetime import datetime\n",
    "null=None"
   ]
  },
  {
   "cell_type": "code",
   "execution_count": 66,
   "metadata": {
    "collapsed": true
   },
   "outputs": [],
   "source": [
    "processDB = sqlite_interface()"
   ]
  },
  {
   "cell_type": "code",
   "execution_count": 67,
   "metadata": {
    "collapsed": true
   },
   "outputs": [],
   "source": [
    "def get_states(url):\n",
    "    links = []\n",
    "    r = requests.get(url)\n",
    "    soup = BeautifulSoup(r.text, 'lxml')\n",
    "    for link in soup.find_all(\"a\", class_=\"bluelink11px\"):\n",
    "        links.append(link.get('href')) \n",
    "    return links"
   ]
  },
  {
   "cell_type": "code",
   "execution_count": 68,
   "metadata": {
    "collapsed": true
   },
   "outputs": [],
   "source": [
    "url = \"https://ngodarpan.gov.in/index.php/home/statewise\""
   ]
  },
  {
   "cell_type": "code",
   "execution_count": 69,
   "metadata": {
    "collapsed": true
   },
   "outputs": [],
   "source": [
    "#url = \"https://ngodarpan.gov.in/index.php/home/statewise_ngo/2569/7/1?per_page=100\"\n",
    "def get_pages():\n",
    "        url = \"https://ngodarpan.gov.in/index.php/home/statewise_ngo/1277/24/1?per_page=100\"\n",
    "        sub_link = requests.get(url)\n",
    "        soup = BeautifulSoup(sub_link.content, 'lxml')\n",
    "        ul = soup.find('ul',  class_=\"pagination\")\n",
    "\n",
    "        pages = [li.text for li in ul.select('li')]\n",
    "\n",
    "        if (pages[-1] == \"Last\"):\n",
    "            pages = [li.text for li in ul.select('li')]\n",
    "            last_li_number = len (ul.select('li')) \n",
    "            last_li = [li for li in ul.select ('li')]\n",
    "            for i in last_li:\n",
    "                if (i.text == 'Last'):\n",
    "                    pages1 = int(i.find ('a').get('data-ci-pagination-page'))\n",
    "        else:\n",
    "            pages1 = int(sum(c.isdigit() for c in pages))\n",
    "        \n",
    "        #print (pages1)\n",
    "        x1= 1\n",
    "        x2 = pages1\n",
    "        page_list = [str(x) for x in range(x1, x2+1)]\n",
    "        #print (page_list)\n",
    "        \n",
    "        linksdata=[]\n",
    "        \n",
    "        for c in page_list:\n",
    "                    url = \"https://ngodarpan.gov.in/index.php/home/statewise_ngo/1277/24/\"+str(c)+\"?per_page=100\"\n",
    "                    #print(url)\n",
    "                    get_page = s.get(url)\n",
    "                    soup = BeautifulSoup(get_page.content, 'lxml')\n",
    "                    first_div = soup.find ('div',  class_ = \"ibox-content\")\n",
    "                    get_tr = first_div.find_all('a', onclick=True)\n",
    "                    linksdata+=get_tr\n",
    "                    #ngodata=get_NGOs(get_tr)\n",
    "        return linksdata"
   ]
  },
  {
   "cell_type": "code",
   "execution_count": 70,
   "metadata": {
    "collapsed": true
   },
   "outputs": [],
   "source": [
    "#stlinks=get_pages()"
   ]
  },
  {
   "cell_type": "code",
   "execution_count": 71,
   "metadata": {
    "collapsed": true
   },
   "outputs": [],
   "source": [
    "#function to store NGO IDs in a list\n",
    "def get_Ids(stlinks):\n",
    "    id_list = []\n",
    "    for ngoinfo in stlinks:\n",
    "        link=ngoinfo['onclick']\n",
    "        ID=''.join([num for num in link if num.isdigit()])\n",
    "        id_list.append(ID)\n",
    "    return id_list"
   ]
  },
  {
   "cell_type": "code",
   "execution_count": 72,
   "metadata": {
    "collapsed": true
   },
   "outputs": [],
   "source": [
    "#ID=get_Ids(stlinks)"
   ]
  },
  {
   "cell_type": "code",
   "execution_count": 73,
   "metadata": {},
   "outputs": [
    {
     "name": "stdout",
     "output_type": "stream",
     "text": [
      "182830\n",
      "159765\n"
     ]
    },
    {
     "ename": "ProgrammingError",
     "evalue": "Cannot operate on a closed database.",
     "output_type": "error",
     "traceback": [
      "\u001b[0;31m---------------------------------------------------------------------------\u001b[0m",
      "\u001b[0;31mProgrammingError\u001b[0m                          Traceback (most recent call last)",
      "\u001b[0;32m<ipython-input-73-c4c6b907ae70>\u001b[0m in \u001b[0;36m<module>\u001b[0;34m()\u001b[0m\n\u001b[1;32m     31\u001b[0m     \u001b[0mprint\u001b[0m\u001b[0;34m(\u001b[0m\u001b[0mi\u001b[0m\u001b[0;34m)\u001b[0m\u001b[0;34m\u001b[0m\u001b[0m\n\u001b[1;32m     32\u001b[0m \u001b[0;34m\u001b[0m\u001b[0m\n\u001b[0;32m---> 33\u001b[0;31m     \u001b[0mcheck\u001b[0m \u001b[0;34m=\u001b[0m \u001b[0mprocessDB\u001b[0m\u001b[0;34m.\u001b[0m\u001b[0mcheckID\u001b[0m\u001b[0;34m(\u001b[0m\u001b[0mi\u001b[0m\u001b[0;34m)\u001b[0m\u001b[0;34m\u001b[0m\u001b[0m\n\u001b[0m\u001b[1;32m     34\u001b[0m     \u001b[0;32mif\u001b[0m \u001b[0mcheck\u001b[0m \u001b[0;32mis\u001b[0m \u001b[0;32mTrue\u001b[0m\u001b[0;34m:\u001b[0m\u001b[0;34m\u001b[0m\u001b[0m\n\u001b[1;32m     35\u001b[0m         \u001b[0mlistofIDstoScrape\u001b[0m\u001b[0;34m.\u001b[0m\u001b[0mappend\u001b[0m\u001b[0;34m(\u001b[0m\u001b[0mi\u001b[0m\u001b[0;34m)\u001b[0m\u001b[0;34m\u001b[0m\u001b[0m\n",
      "\u001b[0;32m~/Downloads/Ashoka Scrapes/NGO_darpan_support_modules_python3.py\u001b[0m in \u001b[0;36mcheckID\u001b[0;34m(self, id)\u001b[0m\n\u001b[1;32m     57\u001b[0m       \u001b[0;32mreturn\u001b[0m \u001b[0md\u001b[0m\u001b[0;34m\u001b[0m\u001b[0m\n\u001b[1;32m     58\u001b[0m \u001b[0;34m\u001b[0m\u001b[0m\n\u001b[0;32m---> 59\u001b[0;31m     \u001b[0;32mdef\u001b[0m \u001b[0mcheckID\u001b[0m\u001b[0;34m(\u001b[0m\u001b[0mself\u001b[0m\u001b[0;34m,\u001b[0m\u001b[0mid\u001b[0m\u001b[0;34m)\u001b[0m\u001b[0;34m:\u001b[0m\u001b[0;34m\u001b[0m\u001b[0m\n\u001b[0m\u001b[1;32m     60\u001b[0m         \u001b[0mid\u001b[0m\u001b[0;34m=\u001b[0m\u001b[0mint\u001b[0m\u001b[0;34m(\u001b[0m\u001b[0mid\u001b[0m\u001b[0;34m)\u001b[0m\u001b[0;34m\u001b[0m\u001b[0m\n\u001b[1;32m     61\u001b[0m         \u001b[0mdat\u001b[0m\u001b[0;34m=\u001b[0m\u001b[0;34m[\u001b[0m\u001b[0;34m]\u001b[0m\u001b[0;34m\u001b[0m\u001b[0m\n",
      "\u001b[0;31mProgrammingError\u001b[0m: Cannot operate on a closed database."
     ]
    }
   ],
   "source": [
    "#ID = '183236','96779','176294']#,\n",
    "ID=['177309', '97671', '156566', '120504', '17732', '116460', '155281', '155203', '181139', '104506', '162083', '164059','163059','88681','184956','182771','113041','164434','173012','164546','178544','105223','182353']\n",
    " \n",
    "#get_Ids(statelinks)\n",
    "\n",
    "def get_NGOs(stlinks):\n",
    "    infolist=[]\n",
    "    done_Ids = []\n",
    "    for ID in stlinks:\n",
    "        r = s.get(\"https://ngodarpan.gov.in/index.php/ajaxcontroller/get_csrf\")\n",
    "        s.headers[\"X-Requested-With\"]=\"XMLHttpRequest\"\n",
    "        my_dict=json.loads(r.text)\n",
    "        # print (my_dict)\n",
    "        csrf_token=my_dict['csrf_token']\n",
    "        data = dict (id = ID, csrf_test_name = csrf_token)\n",
    "        #print (data)\n",
    "        p = s.post(\"https://ngodarpan.gov.in/index.php/ajaxcontroller/show_ngo_info\", data=data)\n",
    "        NGO_info = (json.loads(p.text))\n",
    "        #print (NGO_info)\n",
    "        NGO_info['digitalID'] = ID\n",
    "        infolist.append(NGO_info)\n",
    "        done_Ids.append (ID)\n",
    "        #print (infolist)\n",
    "        time.sleep(3)\n",
    "            \n",
    "    return infolist\n",
    "\n",
    "\n",
    "listofIDstoScrape=[]\n",
    "for i in ID:\n",
    "    print(i)\n",
    "    \n",
    "    check = processDB.checkID(i)\n",
    "    if check is True:\n",
    "        listofIDstoScrape.append(i)\n",
    "\n",
    "dataout = get_NGOs(listofIDstoScrape)\n",
    "\n",
    "\n",
    "# for item in dataout:\n",
    "#     print (item)\n",
    "#     item['digitalID']=int(i)\n",
    "processDB.AppendToDB(dataout)\n",
    "#processDB.closeConnection()"
   ]
  },
  {
   "cell_type": "code",
   "execution_count": 57,
   "metadata": {
    "collapsed": true
   },
   "outputs": [],
   "source": [
    "processDB = sqlite_interface()"
   ]
  },
  {
   "cell_type": "code",
   "execution_count": 58,
   "metadata": {
    "collapsed": true
   },
   "outputs": [],
   "source": [
    "from NGO_darpan_support_modules_python3 import sqlite_interface"
   ]
  },
  {
   "cell_type": "code",
   "execution_count": 59,
   "metadata": {
    "collapsed": true
   },
   "outputs": [],
   "source": [
    "processDB = sqlite_interface()"
   ]
  },
  {
   "cell_type": "code",
   "execution_count": 61,
   "metadata": {},
   "outputs": [
    {
     "ename": "AttributeError",
     "evalue": "'sqlite_interface' object has no attribute 'closeConnection'",
     "output_type": "error",
     "traceback": [
      "\u001b[0;31m---------------------------------------------------------------------------\u001b[0m",
      "\u001b[0;31mAttributeError\u001b[0m                            Traceback (most recent call last)",
      "\u001b[0;32m<ipython-input-61-990652a40168>\u001b[0m in \u001b[0;36m<module>\u001b[0;34m()\u001b[0m\n\u001b[0;32m----> 1\u001b[0;31m \u001b[0mprocessDB\u001b[0m\u001b[0;34m.\u001b[0m\u001b[0mcloseConnection\u001b[0m\u001b[0;34m(\u001b[0m\u001b[0;34m)\u001b[0m\u001b[0;34m\u001b[0m\u001b[0m\n\u001b[0m",
      "\u001b[0;31mAttributeError\u001b[0m: 'sqlite_interface' object has no attribute 'closeConnection'"
     ]
    }
   ],
   "source": [
    "processDB.closeConnection()"
   ]
  },
  {
   "cell_type": "code",
   "execution_count": 62,
   "metadata": {
    "collapsed": true
   },
   "outputs": [],
   "source": [
    "from NGO_darpan_support_modules_python3 import sqlite_interface"
   ]
  },
  {
   "cell_type": "code",
   "execution_count": 63,
   "metadata": {
    "collapsed": true
   },
   "outputs": [],
   "source": [
    "processDB = sqlite_interface()"
   ]
  },
  {
   "cell_type": "code",
   "execution_count": 64,
   "metadata": {},
   "outputs": [
    {
     "ename": "AttributeError",
     "evalue": "'sqlite_interface' object has no attribute 'closeConnection'",
     "output_type": "error",
     "traceback": [
      "\u001b[0;31m---------------------------------------------------------------------------\u001b[0m",
      "\u001b[0;31mAttributeError\u001b[0m                            Traceback (most recent call last)",
      "\u001b[0;32m<ipython-input-64-990652a40168>\u001b[0m in \u001b[0;36m<module>\u001b[0;34m()\u001b[0m\n\u001b[0;32m----> 1\u001b[0;31m \u001b[0mprocessDB\u001b[0m\u001b[0;34m.\u001b[0m\u001b[0mcloseConnection\u001b[0m\u001b[0;34m(\u001b[0m\u001b[0;34m)\u001b[0m\u001b[0;34m\u001b[0m\u001b[0m\n\u001b[0m",
      "\u001b[0;31mAttributeError\u001b[0m: 'sqlite_interface' object has no attribute 'closeConnection'"
     ]
    }
   ],
   "source": [
    "processDB.closeConnection()"
   ]
  },
  {
   "cell_type": "code",
   "execution_count": null,
   "metadata": {
    "collapsed": true
   },
   "outputs": [],
   "source": []
  }
 ],
 "metadata": {
  "kernelspec": {
   "display_name": "Python 3",
   "language": "python",
   "name": "python3"
  },
  "language_info": {
   "codemirror_mode": {
    "name": "ipython",
    "version": 3
   },
   "file_extension": ".py",
   "mimetype": "text/x-python",
   "name": "python",
   "nbconvert_exporter": "python",
   "pygments_lexer": "ipython3",
   "version": "3.6.3"
  }
 },
 "nbformat": 4,
 "nbformat_minor": 2
}
