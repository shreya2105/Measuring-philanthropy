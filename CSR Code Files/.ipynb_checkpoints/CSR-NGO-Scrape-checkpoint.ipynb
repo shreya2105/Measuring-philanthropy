{
 "cells": [
  {
   "cell_type": "code",
   "execution_count": 3,
   "metadata": {
    "collapsed": true
   },
   "outputs": [],
   "source": [
    "from bs4 import BeautifulSoup\n",
    "import requests\n",
    "\n",
    "# def get_states(url):\n",
    "#     links = []\n",
    "#     r = requests.get(url)\n",
    "#     soup = BeautifulSoup(r.text, 'lxml')\n",
    "#     for link in soup.find_all(\"id\", class_=\"table  table-bordered blue  table-striped\"):\n",
    "#         links.append(link.get('href')) \n",
    "#     return links\n",
    "\n",
    "# url = \"http://www.csr.gov.in/CSR/companylist.php?year=FY%202015-16&distirct=&state=&compCat=&district=&csr_spent_range=\"\n",
    "# get_states(url)"
   ]
  },
  {
   "cell_type": "code",
   "execution_count": 18,
   "metadata": {},
   "outputs": [
    {
     "name": "stderr",
     "output_type": "stream",
     "text": [
      "IOPub data rate exceeded.\n",
      "The notebook server will temporarily stop sending output\n",
      "to the client in order to avoid crashing it.\n",
      "To change this limit, set the config variable\n",
      "`--NotebookApp.iopub_data_rate_limit`.\n"
     ]
    },
    {
     "data": {
      "text/plain": [
       "[]"
      ]
     },
     "execution_count": 18,
     "metadata": {},
     "output_type": "execute_result"
    }
   ],
   "source": [
    "def get_states(url):\n",
    "    url = \"http://www.csr.gov.in/CSR/companylist.php?year=FY%202015-16&distirct=&state=&compCat=&district=&csr_spent_range=\"\n",
    "    r = requests.get(url)\n",
    "    soup = BeautifulSoup(r.content, 'lxml')\n",
    "    #print (soup)\n",
    "    links = []\n",
    "    p = soup.find_all(\"tbody\")\n",
    "    for cell in p:\n",
    "        children = cell.findChildren()\n",
    "    print (children)\n",
    "#     for link in p.find_all(\"a\"):\n",
    "#         links.append(link.get('href'))\n",
    "    return links\n",
    "\n",
    "url = \"http://www.csr.gov.in/CSR/companylist.php?year=FY%202015-16&distirct=&state=&compCat=&district=&csr_spent_range=\"\n",
    "get_states(url)"
   ]
  },
  {
   "cell_type": "code",
   "execution_count": null,
   "metadata": {
    "collapsed": true
   },
   "outputs": [],
   "source": [
    "link = \"http://www.csr.gov.in/CSR/companylist.php?year=FY%202015-16&distirct=&state=&compCat=&district=&csr_spent_range=\""
   ]
  },
  {
   "cell_type": "code",
   "execution_count": null,
   "metadata": {
    "collapsed": true
   },
   "outputs": [],
   "source": []
  }
 ],
 "metadata": {
  "kernelspec": {
   "display_name": "Python 3",
   "language": "python",
   "name": "python3"
  },
  "language_info": {
   "codemirror_mode": {
    "name": "ipython",
    "version": 3
   },
   "file_extension": ".py",
   "mimetype": "text/x-python",
   "name": "python",
   "nbconvert_exporter": "python",
   "pygments_lexer": "ipython3",
   "version": "3.6.3"
  }
 },
 "nbformat": 4,
 "nbformat_minor": 2
}
