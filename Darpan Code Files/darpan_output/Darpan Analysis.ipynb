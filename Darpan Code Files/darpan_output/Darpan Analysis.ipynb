{
 "cells": [
  {
   "cell_type": "code",
   "execution_count": 21,
   "metadata": {
    "collapsed": true
   },
   "outputs": [],
   "source": [
    "import pandas as pd\n",
    "import numpy as np\n",
    "import matplotlib.pyplot as plt"
   ]
  },
  {
   "cell_type": "code",
   "execution_count": 22,
   "metadata": {},
   "outputs": [],
   "source": [
    "file = \"/Users/shreyaagarwal/Downloads/Ashoka Scrapes/Darpan Code Files/darpan_output/Main Darpan Output.xlsx\"\n",
    "db = pd.read_excel(file)"
   ]
  },
  {
   "cell_type": "code",
   "execution_count": 23,
   "metadata": {},
   "outputs": [],
   "source": [
    "#db.head()"
   ]
  },
  {
   "cell_type": "code",
   "execution_count": 24,
   "metadata": {},
   "outputs": [
    {
     "data": {
      "text/plain": [
       "(165018, 25)"
      ]
     },
     "execution_count": 24,
     "metadata": {},
     "output_type": "execute_result"
    }
   ],
   "source": [
    "db.shape"
   ]
  },
  {
   "cell_type": "code",
   "execution_count": 29,
   "metadata": {},
   "outputs": [
    {
     "data": {
      "text/html": [
       "<div>\n",
       "<style>\n",
       "    .dataframe thead tr:only-child th {\n",
       "        text-align: right;\n",
       "    }\n",
       "\n",
       "    .dataframe thead th {\n",
       "        text-align: left;\n",
       "    }\n",
       "\n",
       "    .dataframe tbody tr th {\n",
       "        vertical-align: top;\n",
       "    }\n",
       "</style>\n",
       "<table border=\"1\" class=\"dataframe\">\n",
       "  <thead>\n",
       "    <tr style=\"text-align: right;\">\n",
       "      <th></th>\n",
       "      <th>ngo_name</th>\n",
       "      <th>ngo_url</th>\n",
       "      <th>UniqueID</th>\n",
       "      <th>Email</th>\n",
       "      <th>Major_Activities1</th>\n",
       "      <th>Mobile</th>\n",
       "      <th>Off_phone1</th>\n",
       "      <th>issues_working_db</th>\n",
       "      <th>operational_district_db</th>\n",
       "      <th>operational_states_db</th>\n",
       "      <th>...</th>\n",
       "      <th>nr_add</th>\n",
       "      <th>nr_city</th>\n",
       "      <th>nr_isFcra</th>\n",
       "      <th>nr_regNo</th>\n",
       "      <th>reg_name</th>\n",
       "      <th>digitalID</th>\n",
       "      <th>amount_sanctioned</th>\n",
       "      <th>Financial Year</th>\n",
       "      <th>deptt_name</th>\n",
       "      <th>purpose</th>\n",
       "    </tr>\n",
       "  </thead>\n",
       "  <tbody>\n",
       "    <tr>\n",
       "      <th>165013</th>\n",
       "      <td>DERA V.F.M.C</td>\n",
       "      <td></td>\n",
       "      <td>AR/2018/0188037</td>\n",
       "      <td>talukdera1962@gmail.com</td>\n",
       "      <td></td>\n",
       "      <td>9402046811</td>\n",
       "      <td></td>\n",
       "      <td>Animal Husbandry, Dairying  &amp;  Fisheries,Art &amp;...</td>\n",
       "      <td>ARUNACHAL PRADESH-&gt;Upper Subansiri,</td>\n",
       "      <td>ARUNACHAL PRADESH,</td>\n",
       "      <td>...</td>\n",
       "      <td>DERA VILLAGE, UPPER SUBANSIRI DISTRICT, ARUNAC...</td>\n",
       "      <td>DERA VILLAGE</td>\n",
       "      <td>N</td>\n",
       "      <td>SR/ITA/2312</td>\n",
       "      <td>Registrar of Societies</td>\n",
       "      <td>188037</td>\n",
       "      <td>102330</td>\n",
       "      <td>2016- 2017</td>\n",
       "      <td>ARUNACHAL PRADESH STATE SOCIAL WELFARE BOARD</td>\n",
       "      <td>RGN CRECHE PROGRAMME</td>\n",
       "    </tr>\n",
       "    <tr>\n",
       "      <th>165014</th>\n",
       "      <td>ABO-TANI EDUCATIONAL &amp; CULTURAL SOCIETY</td>\n",
       "      <td></td>\n",
       "      <td>AR/2018/0188049</td>\n",
       "      <td>atecsoc@gmail.com</td>\n",
       "      <td></td>\n",
       "      <td>9402992197</td>\n",
       "      <td></td>\n",
       "      <td>Agriculture,Children,Disaster Management,Drink...</td>\n",
       "      <td>ARUNACHAL PRADESH-&gt;Upper Subansiri,</td>\n",
       "      <td>ARUNACHAL PRADESH,</td>\n",
       "      <td>...</td>\n",
       "      <td>DAPORIJO, UPPER SUBANSIRI DISTRICT, ARUNACHAL ...</td>\n",
       "      <td>DAPORIJO</td>\n",
       "      <td>N</td>\n",
       "      <td>SR/ITA/277</td>\n",
       "      <td>Registrar of Societies</td>\n",
       "      <td>188049</td>\n",
       "      <td>84768</td>\n",
       "      <td>2013- 2014</td>\n",
       "      <td>ARUNACHAL PRADESH STATE SOCIAL WELFARE BOARD</td>\n",
       "      <td>PROJECT IMPLEMENTED SUCCESFULLY</td>\n",
       "    </tr>\n",
       "    <tr>\n",
       "      <th>165015</th>\n",
       "      <td>ABO-TANI EDUCATIONAL &amp; CULTURAL SOCIETY</td>\n",
       "      <td></td>\n",
       "      <td>AR/2018/0188049</td>\n",
       "      <td>atecsoc@gmail.com</td>\n",
       "      <td></td>\n",
       "      <td>9402992197</td>\n",
       "      <td></td>\n",
       "      <td>Agriculture,Children,Disaster Management,Drink...</td>\n",
       "      <td>ARUNACHAL PRADESH-&gt;Upper Subansiri,</td>\n",
       "      <td>ARUNACHAL PRADESH,</td>\n",
       "      <td>...</td>\n",
       "      <td>DAPORIJO, UPPER SUBANSIRI DISTRICT, ARUNACHAL ...</td>\n",
       "      <td>DAPORIJO</td>\n",
       "      <td>N</td>\n",
       "      <td>SR/ITA/277</td>\n",
       "      <td>Registrar of Societies</td>\n",
       "      <td>188049</td>\n",
       "      <td>84768</td>\n",
       "      <td>2014- 2015</td>\n",
       "      <td>ARUNACHAL PRADESH STATE SOCIAL WELFARE BOARD</td>\n",
       "      <td>PROJECT IMPLEMENTED SUCCESFULLY</td>\n",
       "    </tr>\n",
       "    <tr>\n",
       "      <th>165016</th>\n",
       "      <td>ABO-TANI EDUCATIONAL &amp; CULTURAL SOCIETY</td>\n",
       "      <td></td>\n",
       "      <td>AR/2018/0188049</td>\n",
       "      <td>atecsoc@gmail.com</td>\n",
       "      <td></td>\n",
       "      <td>9402992197</td>\n",
       "      <td></td>\n",
       "      <td>Agriculture,Children,Disaster Management,Drink...</td>\n",
       "      <td>ARUNACHAL PRADESH-&gt;Upper Subansiri,</td>\n",
       "      <td>ARUNACHAL PRADESH,</td>\n",
       "      <td>...</td>\n",
       "      <td>DAPORIJO, UPPER SUBANSIRI DISTRICT, ARUNACHAL ...</td>\n",
       "      <td>DAPORIJO</td>\n",
       "      <td>N</td>\n",
       "      <td>SR/ITA/277</td>\n",
       "      <td>Registrar of Societies</td>\n",
       "      <td>188049</td>\n",
       "      <td>131796</td>\n",
       "      <td>2015- 2016</td>\n",
       "      <td>ARUNACHAL PRADESH STATE SOCIAL WELFARE BOARD</td>\n",
       "      <td>RGN CRECHE PROGRAMME</td>\n",
       "    </tr>\n",
       "    <tr>\n",
       "      <th>165017</th>\n",
       "      <td>ABO-TANI EDUCATIONAL &amp; CULTURAL SOCIETY</td>\n",
       "      <td></td>\n",
       "      <td>AR/2018/0188049</td>\n",
       "      <td>atecsoc@gmail.com</td>\n",
       "      <td></td>\n",
       "      <td>9402992197</td>\n",
       "      <td></td>\n",
       "      <td>Agriculture,Children,Disaster Management,Drink...</td>\n",
       "      <td>ARUNACHAL PRADESH-&gt;Upper Subansiri,</td>\n",
       "      <td>ARUNACHAL PRADESH,</td>\n",
       "      <td>...</td>\n",
       "      <td>DAPORIJO, UPPER SUBANSIRI DISTRICT, ARUNACHAL ...</td>\n",
       "      <td>DAPORIJO</td>\n",
       "      <td>N</td>\n",
       "      <td>SR/ITA/277</td>\n",
       "      <td>Registrar of Societies</td>\n",
       "      <td>188049</td>\n",
       "      <td>204660</td>\n",
       "      <td>2016- 2017</td>\n",
       "      <td>ARUNACHAL PRADESH STATE SOCIAL WELFARE BOARD</td>\n",
       "      <td>RGN CRECHE PROGRAMME</td>\n",
       "    </tr>\n",
       "  </tbody>\n",
       "</table>\n",
       "<p>5 rows × 25 columns</p>\n",
       "</div>"
      ],
      "text/plain": [
       "                                       ngo_name ngo_url         UniqueID  \\\n",
       "165013                             DERA V.F.M.C          AR/2018/0188037   \n",
       "165014  ABO-TANI EDUCATIONAL & CULTURAL SOCIETY          AR/2018/0188049   \n",
       "165015  ABO-TANI EDUCATIONAL & CULTURAL SOCIETY          AR/2018/0188049   \n",
       "165016  ABO-TANI EDUCATIONAL & CULTURAL SOCIETY          AR/2018/0188049   \n",
       "165017  ABO-TANI EDUCATIONAL & CULTURAL SOCIETY          AR/2018/0188049   \n",
       "\n",
       "                          Email Major_Activities1      Mobile Off_phone1  \\\n",
       "165013  talukdera1962@gmail.com                    9402046811              \n",
       "165014        atecsoc@gmail.com                    9402992197              \n",
       "165015        atecsoc@gmail.com                    9402992197              \n",
       "165016        atecsoc@gmail.com                    9402992197              \n",
       "165017        atecsoc@gmail.com                    9402992197              \n",
       "\n",
       "                                        issues_working_db  \\\n",
       "165013  Animal Husbandry, Dairying  &  Fisheries,Art &...   \n",
       "165014  Agriculture,Children,Disaster Management,Drink...   \n",
       "165015  Agriculture,Children,Disaster Management,Drink...   \n",
       "165016  Agriculture,Children,Disaster Management,Drink...   \n",
       "165017  Agriculture,Children,Disaster Management,Drink...   \n",
       "\n",
       "                     operational_district_db operational_states_db  \\\n",
       "165013  ARUNACHAL PRADESH->Upper Subansiri,    ARUNACHAL PRADESH,    \n",
       "165014  ARUNACHAL PRADESH->Upper Subansiri,    ARUNACHAL PRADESH,    \n",
       "165015  ARUNACHAL PRADESH->Upper Subansiri,    ARUNACHAL PRADESH,    \n",
       "165016  ARUNACHAL PRADESH->Upper Subansiri,    ARUNACHAL PRADESH,    \n",
       "165017  ARUNACHAL PRADESH->Upper Subansiri,    ARUNACHAL PRADESH,    \n",
       "\n",
       "                     ...                 \\\n",
       "165013               ...                  \n",
       "165014               ...                  \n",
       "165015               ...                  \n",
       "165016               ...                  \n",
       "165017               ...                  \n",
       "\n",
       "                                                   nr_add       nr_city  \\\n",
       "165013  DERA VILLAGE, UPPER SUBANSIRI DISTRICT, ARUNAC...  DERA VILLAGE   \n",
       "165014  DAPORIJO, UPPER SUBANSIRI DISTRICT, ARUNACHAL ...      DAPORIJO   \n",
       "165015  DAPORIJO, UPPER SUBANSIRI DISTRICT, ARUNACHAL ...      DAPORIJO   \n",
       "165016  DAPORIJO, UPPER SUBANSIRI DISTRICT, ARUNACHAL ...      DAPORIJO   \n",
       "165017  DAPORIJO, UPPER SUBANSIRI DISTRICT, ARUNACHAL ...      DAPORIJO   \n",
       "\n",
       "       nr_isFcra     nr_regNo                reg_name digitalID  \\\n",
       "165013         N  SR/ITA/2312  Registrar of Societies    188037   \n",
       "165014         N   SR/ITA/277  Registrar of Societies    188049   \n",
       "165015         N   SR/ITA/277  Registrar of Societies    188049   \n",
       "165016         N   SR/ITA/277  Registrar of Societies    188049   \n",
       "165017         N   SR/ITA/277  Registrar of Societies    188049   \n",
       "\n",
       "       amount_sanctioned Financial Year  \\\n",
       "165013            102330     2016- 2017   \n",
       "165014             84768     2013- 2014   \n",
       "165015             84768     2014- 2015   \n",
       "165016            131796     2015- 2016   \n",
       "165017            204660     2016- 2017   \n",
       "\n",
       "                                          deptt_name  \\\n",
       "165013  ARUNACHAL PRADESH STATE SOCIAL WELFARE BOARD   \n",
       "165014  ARUNACHAL PRADESH STATE SOCIAL WELFARE BOARD   \n",
       "165015  ARUNACHAL PRADESH STATE SOCIAL WELFARE BOARD   \n",
       "165016  ARUNACHAL PRADESH STATE SOCIAL WELFARE BOARD   \n",
       "165017  ARUNACHAL PRADESH STATE SOCIAL WELFARE BOARD   \n",
       "\n",
       "                                purpose  \n",
       "165013             RGN CRECHE PROGRAMME  \n",
       "165014  PROJECT IMPLEMENTED SUCCESFULLY  \n",
       "165015  PROJECT IMPLEMENTED SUCCESFULLY  \n",
       "165016             RGN CRECHE PROGRAMME  \n",
       "165017             RGN CRECHE PROGRAMME  \n",
       "\n",
       "[5 rows x 25 columns]"
      ]
     },
     "execution_count": 29,
     "metadata": {},
     "output_type": "execute_result"
    }
   ],
   "source": [
    "db.tail()"
   ]
  },
  {
   "cell_type": "code",
   "execution_count": 48,
   "metadata": {
    "collapsed": true
   },
   "outputs": [],
   "source": [
    "sorted_by_funds = db.sort_values(['amount_sanctioned'], ascending=False)"
   ]
  },
  {
   "cell_type": "code",
   "execution_count": 49,
   "metadata": {
    "collapsed": true
   },
   "outputs": [],
   "source": [
    "%matplotlib inline"
   ]
  },
  {
   "cell_type": "code",
   "execution_count": 50,
   "metadata": {},
   "outputs": [
    {
     "data": {
      "text/plain": [
       "<function matplotlib.pyplot.show>"
      ]
     },
     "execution_count": 50,
     "metadata": {},
     "output_type": "execute_result"
    },
    {
     "data": {
      "image/png": "[encoded data removed]",
      "text/plain": [
       "<matplotlib.figure.Figure at 0x13abeb0b8>"
      ]
     },
     "metadata": {},
     "output_type": "display_data"
    }
   ],
   "source": [
    "sorted_by_funds[\"amount_sanctioned\"].head(10).plot(kind=\"barh\")\n",
    "plt.show"
   ]
  },
  {
   "cell_type": "code",
   "execution_count": 57,
   "metadata": {},
   "outputs": [
    {
     "data": {
      "image/png": "[encoded data removed]",
      "text/plain": [
       "<matplotlib.figure.Figure at 0x13c0aa908>"
      ]
     },
     "metadata": {},
     "output_type": "display_data"
    }
   ],
   "source": [
    "#sorted_by_funds[\"amount_sanctioned\"].plot(kind=\"hist\")\n",
    "sorted_movies = db[['amount_sanctioned']].sort_values(['amount_sanctioned'], ascending=[False])\n",
    "sorted_movies.head(80)['amount_sanctioned'].plot.hist()\n",
    "plt.show()"
   ]
  },
  {
   "cell_type": "code",
   "execution_count": null,
   "metadata": {
    "collapsed": true
   },
   "outputs": [],
   "source": []
  }
 ],
 "metadata": {
  "kernelspec": {
   "display_name": "Python 3",
   "language": "python",
   "name": "python3"
  },
  "language_info": {
   "codemirror_mode": {
    "name": "ipython",
    "version": 3
   },
   "file_extension": ".py",
   "mimetype": "text/x-python",
   "name": "python",
   "nbconvert_exporter": "python",
   "pygments_lexer": "ipython3",
   "version": "3.6.3"
  }
 },
 "nbformat": 4,
 "nbformat_minor": 2
}
