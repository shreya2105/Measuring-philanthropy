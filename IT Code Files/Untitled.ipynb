{
 "cells": [
  {
   "cell_type": "code",
   "execution_count": 2,
   "metadata": {},
   "outputs": [
    {
     "ename": "ModuleNotFoundError",
     "evalue": "No module named 'JavaScript'",
     "output_type": "error",
     "traceback": [
      "\u001b[0;31m---------------------------------------------------------------------------\u001b[0m",
      "\u001b[0;31mModuleNotFoundError\u001b[0m                       Traceback (most recent call last)",
      "\u001b[0;32m<ipython-input-2-d44a7864cc20>\u001b[0m in \u001b[0;36m<module>\u001b[0;34m()\u001b[0m\n\u001b[1;32m      5\u001b[0m \u001b[0;32mfrom\u001b[0m \u001b[0mIT_NGO_Scrapes_module\u001b[0m \u001b[0;32mimport\u001b[0m \u001b[0msqlite_interface\u001b[0m\u001b[0;34m\u001b[0m\u001b[0m\n\u001b[1;32m      6\u001b[0m \u001b[0;32mfrom\u001b[0m \u001b[0mdatetime\u001b[0m \u001b[0;32mimport\u001b[0m \u001b[0mdatetime\u001b[0m\u001b[0;34m\u001b[0m\u001b[0m\n\u001b[0;32m----> 7\u001b[0;31m \u001b[0;32mimport\u001b[0m \u001b[0mJavaScript\u001b[0m\u001b[0;34m\u001b[0m\u001b[0m\n\u001b[0m\u001b[1;32m      8\u001b[0m \u001b[0;32mimport\u001b[0m \u001b[0mtime\u001b[0m\u001b[0;34m\u001b[0m\u001b[0m\n\u001b[1;32m      9\u001b[0m \u001b[0mnull\u001b[0m\u001b[0;34m=\u001b[0m\u001b[0;32mNone\u001b[0m\u001b[0;34m\u001b[0m\u001b[0m\n",
      "\u001b[0;31mModuleNotFoundError\u001b[0m: No module named 'JavaScript'"
     ]
    }
   ],
   "source": [
    "from selenium import webdriver\n",
    "from selenium.webdriver.common.by import By\n",
    "from selenium.webdriver.support.ui import WebDriverWait\n",
    "from selenium.webdriver.support import expected_conditions as EC\n",
    "from IT_NGO_Scrapes_module import sqlite_interface\n",
    "from datetime import datetime\n",
    "import JavaScript\n",
    "import time\n",
    "null=None\n",
    "\n",
    "processDB = sqlite_interface()\n",
    "\n",
    "driver = webdriver.Safari()\n",
    "wait = WebDriverWait(driver, 10)\n",
    "driver.get(\"http://www.incometaxindia.gov.in/Pages/utilities/exempted-institutions.aspx\")\n",
    "\n",
    "\n",
    "call_names = {\"Address\": \"Address\", \"State\": \"State\", \"City\": \"City\", \"Chief Commissioner of Income Tax Cadre Controlling Authority (CCIT- CCA) / DGIT (Exemptions)\":\"CCIT_DGIT_Exemptions\", \"Chief Commissioner of Income Tax (CCIT)\":\"CCIT\", \"Commissioner of Income Tax (CIT)\": \"CIT\",\"Approved under Section\": \"Approved_under_Section\", \"Date of Order (DD/MM/YYYY)\": \"Date_of_order\", \"Date of Withdrawal/Cancellation (DD/MM/YYYY)\":\"Date_of_withdrawal\", \"Date of Expiry (DD/MM/YYYY)\": \"Date_of_Expiry\", \"Remarks\": \"Remarks\"}\n",
    "\n",
    "while True:\n",
    "    for elem in wait.until(EC.presence_of_all_elements_located((By.CLASS_NAME,\"faq-sub-content exempted-result\"))):\n",
    "        listofIDstoScrape = []\n",
    "        #print(elem.text)\n",
    "        name = elem.find_elements_by_class_name(\"fc-blue fquph\")\n",
    "        pancard = elem.find_elements_by_class_name(\"pan-id\")\n",
    "        details = driver.find_elements_by_class_name(\"exempted-detail\")\n",
    "        for i in details:\n",
    "            pan = i.text\n",
    "        \n",
    "        for n, p, key in zip(name, pancard, details):\n",
    "            main_list = {\"Name\": (n.text.replace(p.text,'')), \"Pancard\": p.text}\n",
    "            for elem_li in key.find_elements_by_tag_name(\"li\"):\n",
    "                main_list[call_names [elem_li.find_element_by_tag_name('strong').text]] = elem_li.find_element_by_tag_name('span').text\n",
    "                \n",
    "#             check = processDB.checkID(main_list[\"Pancard\"])\n",
    "#             if check is True:\n",
    "\n",
    "#                 listofIDstoScrape.append(main_list)\n",
    "#             #print (main_list)\n",
    "        \n",
    "#         processDB.AppendToDB(listofIDstoScrape)\n",
    "#         #processDB.closeConnection()    \n",
    "\n",
    "        \n",
    "        for i in range (2,10307):  #looping over the page numbers\n",
    "            wait.until(EC.presence_of_element_located((By.ID, \"ctl00_SPWebPartManager1_g_d6877ff2_42a8_4804_8802_6d49230dae8a_ctl00_txtPageNumber\"))).send_keys(i)\n",
    "            driver.execute_script(\"if (WebForm_TextBoxKeyHandler(event) == false) return false;javascript:return isNumber(event);\")\n",
    "\n",
    "        \n",
    "        time.sleep(3)\n",
    "\n",
    "            \n",
    "            \n",
    "#driver.quit()"
   ]
  },
  {
   "cell_type": "code",
   "execution_count": null,
   "metadata": {
    "collapsed": true
   },
   "outputs": [],
   "source": []
  }
 ],
 "metadata": {
  "kernelspec": {
   "display_name": "Python 3",
   "language": "python",
   "name": "python3"
  },
  "language_info": {
   "codemirror_mode": {
    "name": "ipython",
    "version": 3
   },
   "file_extension": ".py",
   "mimetype": "text/x-python",
   "name": "python",
   "nbconvert_exporter": "python",
   "pygments_lexer": "ipython3",
   "version": "3.6.3"
  }
 },
 "nbformat": 4,
 "nbformat_minor": 2
}
